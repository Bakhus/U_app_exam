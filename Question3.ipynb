{
 "cells": [
  {
   "cell_type": "markdown",
   "metadata": {},
   "source": [
    "# Part 1 SQL"
   ]
  },
  {
   "cell_type": "markdown",
   "metadata": {},
   "source": [
    "* For each of the cities 'Qarth' and 'Meereen', calculate 90th percentile difference between Actual and Predicted ETA for all completed trips within the last 30 days."
   ]
  },
  {
   "cell_type": "markdown",
   "metadata": {},
   "source": [
    "```SQL\n",
    "select city_name, percentile_disc(0.9) within group (order by time_diff) as time_diff_90\n",
    "from (\n",
    "      select table1.city_id, table2.city_name,\n",
    "             (table1.actual_eta-table1.predicted_eta) as time_diff\n",
    "      from trips as table1\n",
    "      join cities as table2\n",
    "      on table1.city_id=table2.city_id\n",
    "      where table1.request_at > NOW() - INTERVAL '30 days'\n",
    "      and table1.status = 'completed'\n",
    "      and table2.city_name in ('Qarth','Meereen')\n",
    "     )\n",
    "group by city_name;\n",
    "```"
   ]
  },
  {
   "cell_type": "markdown",
   "metadata": {},
   "source": [
    "* A signup is defined as an event labeled ‘sign_up_success’ within the events table. For each city (‘Qarth’ and ‘Meereen’) and each day of the week, determine the percentage of signups in the first week of 2016 that resulted in completed a trip within 168 hours of the sign up date."
   ]
  },
  {
   "cell_type": "markdown",
   "metadata": {},
   "source": [
    "```SQL\n",
    "select table3.city_name,\n",
    "       extract(DOW from table1._ts) as day_of_week, count(*) as prctg\n",
    "from events as table1\n",
    "join trips as table2\n",
    "on table1.city_id = table2.city_id\n",
    "join cities as table3\n",
    "on table1.city_id=table3.city_id\n",
    "where table1.event_name = 'sign_up_success'\n",
    "and table1._ts BETWEEN '2016-01-01 00:00:00'::timestamp and '2016-01-08 00:00:00'::timestamp\n",
    "and table3.city_name in ('Qarth','Meereen')\n",
    "and DATEDIFF(hour, table1._ts, table2.request_at)<=168\n",
    "and table2.status = 'completed'\n",
    "group by 1,2;\n",
    "```"
   ]
  },
  {
   "cell_type": "markdown",
   "metadata": {},
   "source": [
    "# Part 2 Experiment and metrics design\n",
    "#### Success metrics\n",
    "* Primary success metric should be active user count.\n",
    "Active user is defined as any partner that frequently uses advanced features of the app. For example: Use of heat map, action on the Uber feed, use of earnings and ratings tabs.\n",
    "Success could be defined as higher percentage of active users compared to the old app.\n",
    "* Secondary metrics can be:  \n",
    "    1.\tApp rating in the app store\n",
    "    2.\tSignificant improvements in partner’s average earnings per trip\n",
    "    3.\tSignificant improvement in partner’s rating\n",
    "\n",
    "#### Testing\n",
    "1.\tFor regions where both old and new apps are being used:\n",
    "    a.\tCalculate fractions of active users for both apps\n",
    "    b.\tCalculate average earnings per trip for both apps, across all partners\n",
    "    c.\tCalculate average ratings of partners for both apps, across all partners\n",
    "2.\tFor people that switched to new app:\n",
    "    a.\tCalculate how many were ‘active’ before and after (Testing whether the new app is more engaging)\n",
    "    b.\tCalculate if the switch to a new app caused a statistically significant increase or decrease on average earning per trip.\n",
    "    c.\tCalculate if the switch to a new app caused a statistically significant increase or decrease on the rating of the partner.\n",
    "3.\tCompare apps store ratings for comparable periods  \n",
    "\n",
    "First test, comparing app performance across all partners can yield statistically significant results faster, since we will be looking at all partners and average across all. \n",
    "Second test will be more precise measurement but will need longer time since calculation will be made on individual partner level.\n",
    "Third test is straightforward and can yield results relatively fast.\n",
    "Based on the result(s) of the first test (and probably third), we can judge on the duration or implementation of the second test.\n",
    "\n",
    "#### Recommendation\n",
    "Based on the defined metrics (% of active users, app rating, earnings per trip, rating of the partner):\t\n",
    "* If the new app performs better in at least one metric, especially primary, while other metrics are unaffected, we would recommend launch of the new app.\n",
    "* If the new app is performing worse in at least one metric, especially primary, while other metrics are unaffected, we would recommend to roll it back.\n",
    "* In all other cases we would recommend further studies if feasible."
   ]
  },
  {
   "cell_type": "markdown",
   "metadata": {},
   "source": [
    "# Part 3 Data analysis"
   ]
  },
  {
   "cell_type": "code",
   "execution_count": 1,
   "metadata": {
    "collapsed": true
   },
   "outputs": [],
   "source": [
    "import pandas as pd\n",
    "import numpy as np"
   ]
  },
  {
   "cell_type": "markdown",
   "metadata": {},
   "source": [
    "Loading data. Input file name was changed from `ds_challenge_v2_1_data (1).csv` to `ds_challenge_v2_1_data.csv`"
   ]
  },
  {
   "cell_type": "code",
   "execution_count": 2,
   "metadata": {
    "collapsed": true
   },
   "outputs": [],
   "source": [
    "data=pd.read_csv('/Users/dkh320/Desktop/Family/Bakhtiyar/Applications/U_app_exam/ds_challenge_v2_1_data.csv')"
   ]
  },
  {
   "cell_type": "markdown",
   "metadata": {},
   "source": [
    "Checking sample data"
   ]
  },
  {
   "cell_type": "code",
   "execution_count": 3,
   "metadata": {
    "collapsed": false,
    "scrolled": true
   },
   "outputs": [
    {
     "data": {
      "text/html": [
       "<div>\n",
       "<table border=\"1\" class=\"dataframe\">\n",
       "  <thead>\n",
       "    <tr style=\"text-align: right;\">\n",
       "      <th></th>\n",
       "      <th>id</th>\n",
       "      <th>city_name</th>\n",
       "      <th>signup_os</th>\n",
       "      <th>signup_channel</th>\n",
       "      <th>signup_date</th>\n",
       "      <th>bgc_date</th>\n",
       "      <th>vehicle_added_date</th>\n",
       "      <th>vehicle_make</th>\n",
       "      <th>vehicle_model</th>\n",
       "      <th>vehicle_year</th>\n",
       "      <th>first_completed_date</th>\n",
       "    </tr>\n",
       "  </thead>\n",
       "  <tbody>\n",
       "    <tr>\n",
       "      <th>0</th>\n",
       "      <td>1</td>\n",
       "      <td>Strark</td>\n",
       "      <td>ios web</td>\n",
       "      <td>Paid</td>\n",
       "      <td>1/2/16</td>\n",
       "      <td>NaN</td>\n",
       "      <td>NaN</td>\n",
       "      <td>NaN</td>\n",
       "      <td>NaN</td>\n",
       "      <td>NaN</td>\n",
       "      <td>NaN</td>\n",
       "    </tr>\n",
       "    <tr>\n",
       "      <th>1</th>\n",
       "      <td>2</td>\n",
       "      <td>Strark</td>\n",
       "      <td>windows</td>\n",
       "      <td>Paid</td>\n",
       "      <td>1/21/16</td>\n",
       "      <td>NaN</td>\n",
       "      <td>NaN</td>\n",
       "      <td>NaN</td>\n",
       "      <td>NaN</td>\n",
       "      <td>NaN</td>\n",
       "      <td>NaN</td>\n",
       "    </tr>\n",
       "    <tr>\n",
       "      <th>2</th>\n",
       "      <td>3</td>\n",
       "      <td>Wrouver</td>\n",
       "      <td>windows</td>\n",
       "      <td>Organic</td>\n",
       "      <td>1/11/16</td>\n",
       "      <td>1/11/16</td>\n",
       "      <td>NaN</td>\n",
       "      <td>NaN</td>\n",
       "      <td>NaN</td>\n",
       "      <td>NaN</td>\n",
       "      <td>NaN</td>\n",
       "    </tr>\n",
       "    <tr>\n",
       "      <th>3</th>\n",
       "      <td>4</td>\n",
       "      <td>Berton</td>\n",
       "      <td>android web</td>\n",
       "      <td>Referral</td>\n",
       "      <td>1/29/16</td>\n",
       "      <td>2/3/16</td>\n",
       "      <td>2/3/16</td>\n",
       "      <td>Toyota</td>\n",
       "      <td>Corolla</td>\n",
       "      <td>2016.0</td>\n",
       "      <td>2/3/16</td>\n",
       "    </tr>\n",
       "    <tr>\n",
       "      <th>4</th>\n",
       "      <td>5</td>\n",
       "      <td>Strark</td>\n",
       "      <td>android web</td>\n",
       "      <td>Referral</td>\n",
       "      <td>1/10/16</td>\n",
       "      <td>1/25/16</td>\n",
       "      <td>1/26/16</td>\n",
       "      <td>Hyundai</td>\n",
       "      <td>Sonata</td>\n",
       "      <td>2016.0</td>\n",
       "      <td>NaN</td>\n",
       "    </tr>\n",
       "    <tr>\n",
       "      <th>5</th>\n",
       "      <td>6</td>\n",
       "      <td>Strark</td>\n",
       "      <td>android web</td>\n",
       "      <td>Referral</td>\n",
       "      <td>1/18/16</td>\n",
       "      <td>1/18/16</td>\n",
       "      <td>1/22/16</td>\n",
       "      <td>Cadillac</td>\n",
       "      <td>DTS</td>\n",
       "      <td>2006.0</td>\n",
       "      <td>NaN</td>\n",
       "    </tr>\n",
       "    <tr>\n",
       "      <th>6</th>\n",
       "      <td>7</td>\n",
       "      <td>Strark</td>\n",
       "      <td>ios web</td>\n",
       "      <td>Paid</td>\n",
       "      <td>1/14/16</td>\n",
       "      <td>1/16/16</td>\n",
       "      <td>1/21/16</td>\n",
       "      <td>Toyota</td>\n",
       "      <td>Prius V</td>\n",
       "      <td>2014.0</td>\n",
       "      <td>1/23/16</td>\n",
       "    </tr>\n",
       "    <tr>\n",
       "      <th>7</th>\n",
       "      <td>8</td>\n",
       "      <td>Strark</td>\n",
       "      <td>ios web</td>\n",
       "      <td>Referral</td>\n",
       "      <td>1/26/16</td>\n",
       "      <td>2/5/16</td>\n",
       "      <td>NaN</td>\n",
       "      <td>NaN</td>\n",
       "      <td>NaN</td>\n",
       "      <td>NaN</td>\n",
       "      <td>NaN</td>\n",
       "    </tr>\n",
       "    <tr>\n",
       "      <th>8</th>\n",
       "      <td>9</td>\n",
       "      <td>Strark</td>\n",
       "      <td>NaN</td>\n",
       "      <td>Referral</td>\n",
       "      <td>1/5/16</td>\n",
       "      <td>NaN</td>\n",
       "      <td>NaN</td>\n",
       "      <td>NaN</td>\n",
       "      <td>NaN</td>\n",
       "      <td>NaN</td>\n",
       "      <td>NaN</td>\n",
       "    </tr>\n",
       "    <tr>\n",
       "      <th>9</th>\n",
       "      <td>10</td>\n",
       "      <td>Berton</td>\n",
       "      <td>ios web</td>\n",
       "      <td>Paid</td>\n",
       "      <td>1/25/16</td>\n",
       "      <td>NaN</td>\n",
       "      <td>NaN</td>\n",
       "      <td>NaN</td>\n",
       "      <td>NaN</td>\n",
       "      <td>NaN</td>\n",
       "      <td>NaN</td>\n",
       "    </tr>\n",
       "    <tr>\n",
       "      <th>10</th>\n",
       "      <td>11</td>\n",
       "      <td>Strark</td>\n",
       "      <td>ios web</td>\n",
       "      <td>Referral</td>\n",
       "      <td>1/18/16</td>\n",
       "      <td>2/9/16</td>\n",
       "      <td>2/24/16</td>\n",
       "      <td>Kia</td>\n",
       "      <td>Optima</td>\n",
       "      <td>2015.0</td>\n",
       "      <td>NaN</td>\n",
       "    </tr>\n",
       "  </tbody>\n",
       "</table>\n",
       "</div>"
      ],
      "text/plain": [
       "    id city_name    signup_os signup_channel signup_date bgc_date  \\\n",
       "0    1    Strark      ios web           Paid      1/2/16      NaN   \n",
       "1    2    Strark      windows           Paid     1/21/16      NaN   \n",
       "2    3   Wrouver      windows        Organic     1/11/16  1/11/16   \n",
       "3    4    Berton  android web       Referral     1/29/16   2/3/16   \n",
       "4    5    Strark  android web       Referral     1/10/16  1/25/16   \n",
       "5    6    Strark  android web       Referral     1/18/16  1/18/16   \n",
       "6    7    Strark      ios web           Paid     1/14/16  1/16/16   \n",
       "7    8    Strark      ios web       Referral     1/26/16   2/5/16   \n",
       "8    9    Strark          NaN       Referral      1/5/16      NaN   \n",
       "9   10    Berton      ios web           Paid     1/25/16      NaN   \n",
       "10  11    Strark      ios web       Referral     1/18/16   2/9/16   \n",
       "\n",
       "   vehicle_added_date vehicle_make vehicle_model  vehicle_year  \\\n",
       "0                 NaN          NaN           NaN           NaN   \n",
       "1                 NaN          NaN           NaN           NaN   \n",
       "2                 NaN          NaN           NaN           NaN   \n",
       "3              2/3/16       Toyota       Corolla        2016.0   \n",
       "4             1/26/16      Hyundai        Sonata        2016.0   \n",
       "5             1/22/16     Cadillac           DTS        2006.0   \n",
       "6             1/21/16       Toyota       Prius V        2014.0   \n",
       "7                 NaN          NaN           NaN           NaN   \n",
       "8                 NaN          NaN           NaN           NaN   \n",
       "9                 NaN          NaN           NaN           NaN   \n",
       "10            2/24/16          Kia        Optima        2015.0   \n",
       "\n",
       "   first_completed_date  \n",
       "0                   NaN  \n",
       "1                   NaN  \n",
       "2                   NaN  \n",
       "3                2/3/16  \n",
       "4                   NaN  \n",
       "5                   NaN  \n",
       "6               1/23/16  \n",
       "7                   NaN  \n",
       "8                   NaN  \n",
       "9                   NaN  \n",
       "10                  NaN  "
      ]
     },
     "execution_count": 3,
     "metadata": {},
     "output_type": "execute_result"
    }
   ],
   "source": [
    "data.loc[:10,]"
   ]
  },
  {
   "cell_type": "markdown",
   "metadata": {},
   "source": [
    "## Data Cleaning\n",
    "1. Converting categorical variables into numercial\n",
    "2. Create new variable that represent completion of certain action (ex: `bgc`: Back ground check consent)\n",
    "3. Replace NaNs with 0 or \"Unknown[variable]\" where possible. Where variable corresponds to the column name\n",
    "4. Creating target variable `has_driven` that has value 1 or 0 (True/False) that we will try to predict"
   ]
  },
  {
   "cell_type": "markdown",
   "metadata": {},
   "source": [
    "Creating new variables called `bgc` (back ground check), `vehicle_added` that will simply state wether the event happened or not (1 or 0). The assumptions is that if the date exists (not NaN), the event happened. Aslo converting `vehicle_year` to integer and assigning 0 where NaN. "
   ]
  },
  {
   "cell_type": "code",
   "execution_count": 6,
   "metadata": {
    "collapsed": false
   },
   "outputs": [],
   "source": [
    "bgc = [pd.notnull(i)*1 for i in data.bgc_date]\n",
    "vehicle_added = [pd.notnull(i)*1 for i in data.vehicle_added_date]\n",
    "vehicle_year = [int(i) for i in data.vehicle_year.fillna(0)]"
   ]
  },
  {
   "cell_type": "markdown",
   "metadata": {},
   "source": [
    "Putting new variable into a temporary data frame."
   ]
  },
  {
   "cell_type": "code",
   "execution_count": 14,
   "metadata": {
    "collapsed": true
   },
   "outputs": [],
   "source": [
    "subdata = pd.DataFrame({'bgc':bgc,'vehicle_added':vehicle_added, 'vehicle_year':vehicle_year})"
   ]
  },
  {
   "cell_type": "markdown",
   "metadata": {},
   "source": [
    "Creating target variable `has_driven` that we will try to predict."
   ]
  },
  {
   "cell_type": "code",
   "execution_count": 15,
   "metadata": {
    "collapsed": true
   },
   "outputs": [],
   "source": [
    "has_driven = [pd.notnull(i)*1 for i in data.first_completed_date]"
   ]
  },
  {
   "cell_type": "markdown",
   "metadata": {},
   "source": [
    "Converting categorical variables to numeric. That is the value of each category becomes a new variable with 1 or 0.\n",
    "NaN values will become `Unknown[Variable]` where `Variable` corresponds to the original column name."
   ]
  },
  {
   "cell_type": "code",
   "execution_count": 16,
   "metadata": {
    "collapsed": true
   },
   "outputs": [],
   "source": [
    "cities = pd.get_dummies(data.city_name.fillna('UnknownCity'))\n",
    "os = pd.get_dummies(data.signup_os.fillna('UnknownOS'))\n",
    "channel = pd.get_dummies(data.signup_channel.fillna('UnknownChannel'))\n",
    "vehicle_make = pd.get_dummies(data.vehicle_make.fillna('UnknownMake'))\n",
    "vehicle_model = pd.get_dummies(data.vehicle_model.fillna('UnknownModel'))"
   ]
  },
  {
   "cell_type": "markdown",
   "metadata": {},
   "source": [
    "Combining new variables into new, single, \"cleaned\" data frame: `clean_data`"
   ]
  },
  {
   "cell_type": "code",
   "execution_count": 17,
   "metadata": {
    "collapsed": false
   },
   "outputs": [],
   "source": [
    "clean_data=pd.concat([cities,os,channel,vehicle_make,vehicle_model, subdata],axis=1)"
   ]
  },
  {
   "cell_type": "markdown",
   "metadata": {},
   "source": [
    "Check sample of the \"clean\" data."
   ]
  },
  {
   "cell_type": "code",
   "execution_count": 18,
   "metadata": {
    "collapsed": false
   },
   "outputs": [
    {
     "data": {
      "text/html": [
       "<div>\n",
       "<table border=\"1\" class=\"dataframe\">\n",
       "  <thead>\n",
       "    <tr style=\"text-align: right;\">\n",
       "      <th></th>\n",
       "      <th>Berton</th>\n",
       "      <th>Strark</th>\n",
       "      <th>Wrouver</th>\n",
       "      <th>UnknownOS</th>\n",
       "      <th>android web</th>\n",
       "      <th>ios web</th>\n",
       "      <th>mac</th>\n",
       "      <th>other</th>\n",
       "      <th>windows</th>\n",
       "      <th>Organic</th>\n",
       "      <th>...</th>\n",
       "      <th>i3</th>\n",
       "      <th>iA</th>\n",
       "      <th>iM</th>\n",
       "      <th>tC</th>\n",
       "      <th>xA</th>\n",
       "      <th>xB</th>\n",
       "      <th>xD</th>\n",
       "      <th>bgc</th>\n",
       "      <th>vehicle_added</th>\n",
       "      <th>vehicle_year</th>\n",
       "    </tr>\n",
       "  </thead>\n",
       "  <tbody>\n",
       "    <tr>\n",
       "      <th>0</th>\n",
       "      <td>0.0</td>\n",
       "      <td>1.0</td>\n",
       "      <td>0.0</td>\n",
       "      <td>0.0</td>\n",
       "      <td>0.0</td>\n",
       "      <td>1.0</td>\n",
       "      <td>0.0</td>\n",
       "      <td>0.0</td>\n",
       "      <td>0.0</td>\n",
       "      <td>0.0</td>\n",
       "      <td>...</td>\n",
       "      <td>0.0</td>\n",
       "      <td>0.0</td>\n",
       "      <td>0.0</td>\n",
       "      <td>0.0</td>\n",
       "      <td>0.0</td>\n",
       "      <td>0.0</td>\n",
       "      <td>0.0</td>\n",
       "      <td>0</td>\n",
       "      <td>0</td>\n",
       "      <td>0</td>\n",
       "    </tr>\n",
       "    <tr>\n",
       "      <th>1</th>\n",
       "      <td>0.0</td>\n",
       "      <td>1.0</td>\n",
       "      <td>0.0</td>\n",
       "      <td>0.0</td>\n",
       "      <td>0.0</td>\n",
       "      <td>0.0</td>\n",
       "      <td>0.0</td>\n",
       "      <td>0.0</td>\n",
       "      <td>1.0</td>\n",
       "      <td>0.0</td>\n",
       "      <td>...</td>\n",
       "      <td>0.0</td>\n",
       "      <td>0.0</td>\n",
       "      <td>0.0</td>\n",
       "      <td>0.0</td>\n",
       "      <td>0.0</td>\n",
       "      <td>0.0</td>\n",
       "      <td>0.0</td>\n",
       "      <td>0</td>\n",
       "      <td>0</td>\n",
       "      <td>0</td>\n",
       "    </tr>\n",
       "    <tr>\n",
       "      <th>2</th>\n",
       "      <td>0.0</td>\n",
       "      <td>0.0</td>\n",
       "      <td>1.0</td>\n",
       "      <td>0.0</td>\n",
       "      <td>0.0</td>\n",
       "      <td>0.0</td>\n",
       "      <td>0.0</td>\n",
       "      <td>0.0</td>\n",
       "      <td>1.0</td>\n",
       "      <td>1.0</td>\n",
       "      <td>...</td>\n",
       "      <td>0.0</td>\n",
       "      <td>0.0</td>\n",
       "      <td>0.0</td>\n",
       "      <td>0.0</td>\n",
       "      <td>0.0</td>\n",
       "      <td>0.0</td>\n",
       "      <td>0.0</td>\n",
       "      <td>1</td>\n",
       "      <td>0</td>\n",
       "      <td>0</td>\n",
       "    </tr>\n",
       "    <tr>\n",
       "      <th>3</th>\n",
       "      <td>1.0</td>\n",
       "      <td>0.0</td>\n",
       "      <td>0.0</td>\n",
       "      <td>0.0</td>\n",
       "      <td>1.0</td>\n",
       "      <td>0.0</td>\n",
       "      <td>0.0</td>\n",
       "      <td>0.0</td>\n",
       "      <td>0.0</td>\n",
       "      <td>0.0</td>\n",
       "      <td>...</td>\n",
       "      <td>0.0</td>\n",
       "      <td>0.0</td>\n",
       "      <td>0.0</td>\n",
       "      <td>0.0</td>\n",
       "      <td>0.0</td>\n",
       "      <td>0.0</td>\n",
       "      <td>0.0</td>\n",
       "      <td>1</td>\n",
       "      <td>1</td>\n",
       "      <td>2016</td>\n",
       "    </tr>\n",
       "  </tbody>\n",
       "</table>\n",
       "<p>4 rows × 431 columns</p>\n",
       "</div>"
      ],
      "text/plain": [
       "   Berton  Strark  Wrouver  UnknownOS  android web  ios web  mac  other  \\\n",
       "0     0.0     1.0      0.0        0.0          0.0      1.0  0.0    0.0   \n",
       "1     0.0     1.0      0.0        0.0          0.0      0.0  0.0    0.0   \n",
       "2     0.0     0.0      1.0        0.0          0.0      0.0  0.0    0.0   \n",
       "3     1.0     0.0      0.0        0.0          1.0      0.0  0.0    0.0   \n",
       "\n",
       "   windows  Organic      ...        i3   iA   iM   tC   xA   xB   xD  bgc  \\\n",
       "0      0.0      0.0      ...       0.0  0.0  0.0  0.0  0.0  0.0  0.0    0   \n",
       "1      1.0      0.0      ...       0.0  0.0  0.0  0.0  0.0  0.0  0.0    0   \n",
       "2      1.0      1.0      ...       0.0  0.0  0.0  0.0  0.0  0.0  0.0    1   \n",
       "3      0.0      0.0      ...       0.0  0.0  0.0  0.0  0.0  0.0  0.0    1   \n",
       "\n",
       "   vehicle_added  vehicle_year  \n",
       "0              0             0  \n",
       "1              0             0  \n",
       "2              0             0  \n",
       "3              1          2016  \n",
       "\n",
       "[4 rows x 431 columns]"
      ]
     },
     "execution_count": 18,
     "metadata": {},
     "output_type": "execute_result"
    }
   ],
   "source": [
    "clean_data.loc[:3]"
   ]
  },
  {
   "cell_type": "markdown",
   "metadata": {},
   "source": [
    "Cheking the row count for original and cleaned data."
   ]
  },
  {
   "cell_type": "code",
   "execution_count": 19,
   "metadata": {
    "collapsed": false
   },
   "outputs": [
    {
     "name": "stdout",
     "output_type": "stream",
     "text": [
      "(54681, 431) (54681, 11)\n"
     ]
    }
   ],
   "source": [
    "print clean_data.shape, data.shape"
   ]
  },
  {
   "cell_type": "markdown",
   "metadata": {},
   "source": [
    "So we have same row count but `clean_data` has more columns (variables) than original `data`, as expected."
   ]
  },
  {
   "cell_type": "markdown",
   "metadata": {},
   "source": [
    "## Question 1"
   ]
  },
  {
   "cell_type": "markdown",
   "metadata": {},
   "source": [
    "Assuming drivers that did not complete their first trips have NaN value for their 'first_completed_date' column, \n",
    "the number of drivers that did drive: "
   ]
  },
  {
   "cell_type": "code",
   "execution_count": 20,
   "metadata": {
    "collapsed": false
   },
   "outputs": [
    {
     "data": {
      "text/plain": [
       "6137"
      ]
     },
     "execution_count": 20,
     "metadata": {},
     "output_type": "execute_result"
    }
   ],
   "source": [
    "sum(has_driven)"
   ]
  },
  {
   "cell_type": "markdown",
   "metadata": {},
   "source": [
    "Checking whether all original 54'681 drivers were unique:"
   ]
  },
  {
   "cell_type": "code",
   "execution_count": 21,
   "metadata": {
    "collapsed": false
   },
   "outputs": [
    {
     "data": {
      "text/plain": [
       "54681"
      ]
     },
     "execution_count": 21,
     "metadata": {},
     "output_type": "execute_result"
    }
   ],
   "source": [
    "len((data.id.unique()))"
   ]
  },
  {
   "cell_type": "markdown",
   "metadata": {},
   "source": [
    "The question was 'What fraction of the driver\n",
    "signups took a first trip?'\n",
    "\n",
    "The answer is the ratio of number of drivers in `has_driven` list to the number of unique drivers in the original `data` table."
   ]
  },
  {
   "cell_type": "code",
   "execution_count": 22,
   "metadata": {
    "collapsed": false
   },
   "outputs": [
    {
     "name": "stdout",
     "output_type": "stream",
     "text": [
      "Answer =  0.11\n"
     ]
    }
   ],
   "source": [
    "print 'Answer = ', round(sum(has_driven)/float(len(data['id'])),2) "
   ]
  },
  {
   "cell_type": "markdown",
   "metadata": {},
   "source": [
    "Only 11% of the drivers that signed up, completed their first trips in January 2015."
   ]
  },
  {
   "cell_type": "markdown",
   "metadata": {
    "collapsed": false
   },
   "source": [
    "## Question 2 (Modeling)\n"
   ]
  },
  {
   "cell_type": "markdown",
   "metadata": {
    "collapsed": false
   },
   "source": [
    "Splitting data set into training and test. 67% to training set and 33% to test set. Will use pythons **sklearn** libraries."
   ]
  },
  {
   "cell_type": "code",
   "execution_count": 24,
   "metadata": {
    "collapsed": false
   },
   "outputs": [],
   "source": [
    "from sklearn.cross_validation import train_test_split"
   ]
  },
  {
   "cell_type": "code",
   "execution_count": 25,
   "metadata": {
    "collapsed": false
   },
   "outputs": [],
   "source": [
    "has_driven = pd.Series(has_driven)\n",
    "X_train, X_test, Y_train, Y_test = train_test_split(clean_data, has_driven, test_size=0.33,random_state=43)"
   ]
  },
  {
   "cell_type": "markdown",
   "metadata": {},
   "source": [
    "Checking whether both data sets (train and test) have same ratio of drivers that have driven. "
   ]
  },
  {
   "cell_type": "code",
   "execution_count": 27,
   "metadata": {
    "collapsed": false
   },
   "outputs": [
    {
     "name": "stdout",
     "output_type": "stream",
     "text": [
      "Train data set ratio:  0.113194671907\n",
      "Test data set ratio:   0.110279855916\n"
     ]
    }
   ],
   "source": [
    "print 'Train data set ratio: ', sum(Y_train)/float(X_train['bgc'].count())\n",
    "print 'Test data set ratio:  ', sum(Y_test)/float(X_test['bgc'].count())"
   ]
  },
  {
   "cell_type": "markdown",
   "metadata": {
    "collapsed": false
   },
   "source": [
    "Setting up model."
   ]
  },
  {
   "cell_type": "code",
   "execution_count": 28,
   "metadata": {
    "collapsed": false
   },
   "outputs": [],
   "source": [
    "from sklearn import linear_model\n",
    "logistic = linear_model.LogisticRegression()"
   ]
  },
  {
   "cell_type": "code",
   "execution_count": 29,
   "metadata": {
    "collapsed": false
   },
   "outputs": [
    {
     "data": {
      "text/plain": [
       "LogisticRegression(C=1.0, class_weight=None, dual=False, fit_intercept=True,\n",
       "          intercept_scaling=1, max_iter=100, multi_class='ovr', n_jobs=1,\n",
       "          penalty='l2', random_state=None, solver='liblinear', tol=0.0001,\n",
       "          verbose=0, warm_start=False)"
      ]
     },
     "execution_count": 29,
     "metadata": {},
     "output_type": "execute_result"
    }
   ],
   "source": [
    "logistic.fit(X_train,Y_train)"
   ]
  },
  {
   "cell_type": "code",
   "execution_count": 30,
   "metadata": {
    "collapsed": true
   },
   "outputs": [],
   "source": [
    "Y_predict = logistic.predict(X_test)"
   ]
  },
  {
   "cell_type": "markdown",
   "metadata": {},
   "source": [
    "Measuring: Accuracy, Precision and Recall of the model."
   ]
  },
  {
   "cell_type": "code",
   "execution_count": 31,
   "metadata": {
    "collapsed": true
   },
   "outputs": [],
   "source": [
    "from sklearn.metrics import accuracy_score, precision_score,recall_score"
   ]
  },
  {
   "cell_type": "code",
   "execution_count": 32,
   "metadata": {
    "collapsed": false
   },
   "outputs": [
    {
     "name": "stdout",
     "output_type": "stream",
     "text": [
      "Accuracy:  0.89\n",
      "Precission:  0.52\n",
      "Recall:  0.42\n"
     ]
    }
   ],
   "source": [
    "print 'Accuracy: ', round(accuracy_score(Y_test,Y_predict),2)\n",
    "print 'Precission: ', round(precision_score(Y_test,Y_predict),2)\n",
    "print 'Recall: ', round(recall_score(Y_test,Y_predict),2)"
   ]
  },
  {
   "cell_type": "markdown",
   "metadata": {},
   "source": [
    "Looking for the coefficients of the model to identify 'high impact' variables."
   ]
  },
  {
   "cell_type": "code",
   "execution_count": 33,
   "metadata": {
    "collapsed": false
   },
   "outputs": [],
   "source": [
    "variable = []\n",
    "coefficient = []\n",
    "\n",
    "for i in range(len(logistic.coef_[0])):\n",
    "    variable.append(clean_data.columns[i])\n",
    "    coefficient.append(round(logistic.coef_[0][i],3))"
   ]
  },
  {
   "cell_type": "code",
   "execution_count": 34,
   "metadata": {
    "collapsed": false
   },
   "outputs": [],
   "source": [
    "Variable_strength = pd.DataFrame({'Variable':variable, 'Coeff':coefficient})"
   ]
  },
  {
   "cell_type": "code",
   "execution_count": 37,
   "metadata": {
    "collapsed": false
   },
   "outputs": [
    {
     "name": "stdout",
     "output_type": "stream",
     "text": [
      "Top 10 positive\n",
      "     Coeff      Variable\n",
      "428  3.939           bgc\n",
      "195  1.155     GLA-Class\n",
      "388  1.138           VUE\n",
      "134  1.085     Commander\n",
      "259  1.004           MPV\n",
      "161  0.988      Endeavor\n",
      "103  0.944  C-Max Hybrid\n",
      "201  0.940            GX\n",
      "335  0.937           SRX\n",
      "181  0.927          Flex\n",
      "\n",
      "Top 10 negative\n",
      "     Coeff      Variable\n",
      "55  -1.606   UnknownMake\n",
      "384 -1.606  UnknownModel\n",
      "3   -1.281     UnknownOS\n",
      "10  -1.152          Paid\n",
      "92  -1.147          Aveo\n",
      "197 -1.104     GLK-Class\n",
      "145 -1.082           DTS\n",
      "424 -1.042            tC\n",
      "9   -1.036       Organic\n",
      "199 -1.014     GS Hybrid\n"
     ]
    }
   ],
   "source": [
    "print 'Top 10 positive'\n",
    "print Variable_strength.sort_values(by='Coeff', ascending=False).iloc[0:10]\n",
    "print '\\nTop 10 negative'\n",
    "print Variable_strength.sort_values(by='Coeff', ascending=True).iloc[0:10]"
   ]
  },
  {
   "cell_type": "markdown",
   "metadata": {
    "collapsed": true
   },
   "source": [
    "* `bgc` variable, that is background check consent event seems to have the highest impact.\n",
    "* Next strongest variables in this model are vehicle models (or lack thereof)."
   ]
  },
  {
   "cell_type": "markdown",
   "metadata": {},
   "source": [
    "### Dummy models for comparison\n",
    "To compare performance of the model we create two simple models that either predict that all sign ups will drive or all sign ups will not drive."
   ]
  },
  {
   "cell_type": "code",
   "execution_count": 38,
   "metadata": {
    "collapsed": false
   },
   "outputs": [],
   "source": [
    "Y_p_alltrue = [1 for i in range(len(Y_predict))]\n",
    "Y_p_allfalse = [0 for i in range(len(Y_predict))]"
   ]
  },
  {
   "cell_type": "code",
   "execution_count": 39,
   "metadata": {
    "collapsed": false
   },
   "outputs": [
    {
     "name": "stdout",
     "output_type": "stream",
     "text": [
      "Performance of \"All drive\" dummy model\n",
      "Accuracy:  0.11\n",
      "Precision:  0.11\n",
      "Recall:  1.0\n"
     ]
    }
   ],
   "source": [
    "print 'Performance of \"All drive\" dummy model'\n",
    "print 'Accuracy: ', round(accuracy_score(Y_test,Y_p_alltrue),2)\n",
    "print 'Precision: ', round(precision_score(Y_test,Y_p_alltrue),2)\n",
    "print 'Recall: ', round(recall_score(Y_test,Y_p_alltrue),2)"
   ]
  },
  {
   "cell_type": "code",
   "execution_count": 40,
   "metadata": {
    "collapsed": false,
    "scrolled": true
   },
   "outputs": [
    {
     "name": "stdout",
     "output_type": "stream",
     "text": [
      "Performance of \"Nobody drives\" dummy model\n",
      "Accuracy:  0.89\n",
      "Precision:  0.0\n",
      "Recall:  0.0\n"
     ]
    },
    {
     "name": "stderr",
     "output_type": "stream",
     "text": [
      "/Users/dkh320/anaconda2/lib/python2.7/site-packages/sklearn/metrics/classification.py:1074: UndefinedMetricWarning: Precision is ill-defined and being set to 0.0 due to no predicted samples.\n",
      "  'precision', 'predicted', average, warn_for)\n"
     ]
    }
   ],
   "source": [
    "print 'Performance of \"Nobody drives\" dummy model'\n",
    "print 'Accuracy: ', round(accuracy_score(Y_test,Y_p_allfalse),2)\n",
    "print 'Precision: ', round(precision_score(Y_test,Y_p_allfalse),2)\n",
    "print 'Recall: ', round(recall_score(Y_test,Y_p_allfalse),2)"
   ]
  },
  {
   "cell_type": "markdown",
   "metadata": {
    "collapsed": false
   },
   "source": [
    "### Another try with fewer features"
   ]
  },
  {
   "cell_type": "markdown",
   "metadata": {
    "collapsed": true
   },
   "source": [
    "Will remove vehicle model from the data and rerun the logistic regression."
   ]
  },
  {
   "cell_type": "code",
   "execution_count": 43,
   "metadata": {
    "collapsed": true
   },
   "outputs": [],
   "source": [
    "r_clean_data=pd.concat([cities,os,channel,vehicle_make, subdata],axis=1)"
   ]
  },
  {
   "cell_type": "code",
   "execution_count": 44,
   "metadata": {
    "collapsed": false
   },
   "outputs": [
    {
     "data": {
      "text/plain": [
       "(54681, 62)"
      ]
     },
     "execution_count": 44,
     "metadata": {},
     "output_type": "execute_result"
    }
   ],
   "source": [
    "r_clean_data.shape"
   ]
  },
  {
   "cell_type": "markdown",
   "metadata": {},
   "source": [
    "The new data has only 62 features"
   ]
  },
  {
   "cell_type": "code",
   "execution_count": 45,
   "metadata": {
    "collapsed": true
   },
   "outputs": [],
   "source": [
    "X_train_r, X_test_r, Y_train_r, Y_test_r = train_test_split(r_clean_data, has_driven, test_size=0.33,random_state=43)"
   ]
  },
  {
   "cell_type": "code",
   "execution_count": 46,
   "metadata": {
    "collapsed": false
   },
   "outputs": [
    {
     "data": {
      "text/plain": [
       "LogisticRegression(C=1.0, class_weight=None, dual=False, fit_intercept=True,\n",
       "          intercept_scaling=1, max_iter=100, multi_class='ovr', n_jobs=1,\n",
       "          penalty='l2', random_state=None, solver='liblinear', tol=0.0001,\n",
       "          verbose=0, warm_start=False)"
      ]
     },
     "execution_count": 46,
     "metadata": {},
     "output_type": "execute_result"
    }
   ],
   "source": [
    "logistic_r = linear_model.LogisticRegression()\n",
    "logistic.fit(X_train_r,Y_train_r)"
   ]
  },
  {
   "cell_type": "code",
   "execution_count": 47,
   "metadata": {
    "collapsed": true
   },
   "outputs": [],
   "source": [
    "Y_predict_r = logistic.predict(X_test_r)"
   ]
  },
  {
   "cell_type": "code",
   "execution_count": 48,
   "metadata": {
    "collapsed": false
   },
   "outputs": [
    {
     "name": "stdout",
     "output_type": "stream",
     "text": [
      "Accuracy:  0.89\n",
      "Precission:  0.52\n",
      "Recall:  0.38\n"
     ]
    }
   ],
   "source": [
    "print 'Accuracy: ', round(accuracy_score(Y_test_r,Y_predict_r),2)\n",
    "print 'Precission: ', round(precision_score(Y_test_r,Y_predict_r),2)\n",
    "print 'Recall: ', round(recall_score(Y_test_r,Y_predict_r),2)"
   ]
  },
  {
   "cell_type": "markdown",
   "metadata": {},
   "source": [
    "#### Kmeans"
   ]
  },
  {
   "cell_type": "code",
   "execution_count": 49,
   "metadata": {
    "collapsed": true
   },
   "outputs": [],
   "source": [
    "from sklearn.neighbors import KNeighborsClassifier"
   ]
  },
  {
   "cell_type": "code",
   "execution_count": 50,
   "metadata": {
    "collapsed": true
   },
   "outputs": [],
   "source": [
    "knn_model3 = KNeighborsClassifier(n_neighbors=3)\n",
    "knn_model5 = KNeighborsClassifier(n_neighbors=5)\n",
    "knn_model10 = KNeighborsClassifier(n_neighbors=10)\n",
    "knn_model20 = KNeighborsClassifier(n_neighbors=20)\n",
    "knn_model50 = KNeighborsClassifier(n_neighbors=50)\n",
    "knn_model100 = KNeighborsClassifier(n_neighbors=100)"
   ]
  },
  {
   "cell_type": "code",
   "execution_count": 51,
   "metadata": {
    "collapsed": false
   },
   "outputs": [
    {
     "data": {
      "text/plain": [
       "KNeighborsClassifier(algorithm='auto', leaf_size=30, metric='minkowski',\n",
       "           metric_params=None, n_jobs=1, n_neighbors=100, p=2,\n",
       "           weights='uniform')"
      ]
     },
     "execution_count": 51,
     "metadata": {},
     "output_type": "execute_result"
    }
   ],
   "source": [
    "knn_model3.fit(X_train,Y_train)\n",
    "knn_model5.fit(X_train,Y_train)\n",
    "knn_model10.fit(X_train,Y_train)\n",
    "knn_model20.fit(X_train,Y_train)\n",
    "knn_model50.fit(X_train,Y_train)\n",
    "knn_model100.fit(X_train,Y_train)"
   ]
  },
  {
   "cell_type": "code",
   "execution_count": 53,
   "metadata": {
    "collapsed": false
   },
   "outputs": [],
   "source": [
    "Y_pred3 = knn_model3.predict(X_test)\n",
    "Y_pred5 = knn_model5.predict(X_test)\n",
    "Y_pred10 = knn_model10.predict(X_test)\n",
    "Y_pred20 = knn_model20.predict(X_test)\n",
    "Y_pred50 = knn_model50.predict(X_test)\n",
    "Y_pred100 = knn_model100.predict(X_test)"
   ]
  },
  {
   "cell_type": "code",
   "execution_count": 54,
   "metadata": {
    "collapsed": false
   },
   "outputs": [
    {
     "name": "stdout",
     "output_type": "stream",
     "text": [
      "k=3: 0.8832\n",
      "k=5: 0.8861\n",
      "k=10: 0.8885\n",
      "k=20: 0.8892\n",
      "k=50: 0.8913\n",
      "k=100: 0.8913\n"
     ]
    }
   ],
   "source": [
    "print \"k=3:\", round(accuracy_score(Y_test,Y_pred3),4)\n",
    "print \"k=5:\", round(accuracy_score(Y_test,Y_pred5),4)\n",
    "print \"k=10:\", round(accuracy_score(Y_test,Y_pred10),4)\n",
    "print \"k=20:\", round(accuracy_score(Y_test,Y_pred20),4)\n",
    "print \"k=50:\", round(accuracy_score(Y_test,Y_pred50),4)\n",
    "print \"k=100:\", round(accuracy_score(Y_test,Y_pred100),4)"
   ]
  },
  {
   "cell_type": "code",
   "execution_count": 55,
   "metadata": {
    "collapsed": false
   },
   "outputs": [
    {
     "name": "stdout",
     "output_type": "stream",
     "text": [
      "k=3: 0.4684\n",
      "k=5: 0.4819\n",
      "k=10: 0.4918\n",
      "k=20: 0.4968\n",
      "k=50: 0.51\n",
      "k=100: 0.5103\n"
     ]
    }
   ],
   "source": [
    "print \"k=3:\", round(precision_score(Y_test,Y_pred3),4)\n",
    "print \"k=5:\", round(precision_score(Y_test,Y_pred5),4)\n",
    "print \"k=10:\", round(precision_score(Y_test,Y_pred10),4)\n",
    "print \"k=20:\", round(precision_score(Y_test,Y_pred20),4)\n",
    "print \"k=50:\", round(precision_score(Y_test,Y_pred50),4)\n",
    "print \"k=100:\", round(precision_score(Y_test,Y_pred100),4)"
   ]
  },
  {
   "cell_type": "code",
   "execution_count": 56,
   "metadata": {
    "collapsed": false
   },
   "outputs": [
    {
     "name": "stdout",
     "output_type": "stream",
     "text": [
      "k=3: 0.4402\n",
      "k=5: 0.4337\n",
      "k=10: 0.3296\n",
      "k=20: 0.3523\n",
      "k=50: 0.3603\n",
      "k=100: 0.3598\n"
     ]
    }
   ],
   "source": [
    "print \"k=3:\", round(recall_score(Y_test,Y_pred3),4)\n",
    "print \"k=5:\", round(recall_score(Y_test,Y_pred5),4)\n",
    "print \"k=10:\", round(recall_score(Y_test,Y_pred10),4)\n",
    "print \"k=20:\", round(recall_score(Y_test,Y_pred20),4)\n",
    "print \"k=50:\", round(recall_score(Y_test,Y_pred50),4)\n",
    "print \"k=100:\", round(recall_score(Y_test,Y_pred100),4)"
   ]
  },
  {
   "cell_type": "code",
   "execution_count": null,
   "metadata": {
    "collapsed": true
   },
   "outputs": [],
   "source": []
  }
 ],
 "metadata": {
  "kernelspec": {
   "display_name": "Python 2",
   "language": "python",
   "name": "python2"
  },
  "language_info": {
   "codemirror_mode": {
    "name": "ipython",
    "version": 2
   },
   "file_extension": ".py",
   "mimetype": "text/x-python",
   "name": "python",
   "nbconvert_exporter": "python",
   "pygments_lexer": "ipython2",
   "version": "2.7.11"
  }
 },
 "nbformat": 4,
 "nbformat_minor": 0
}
