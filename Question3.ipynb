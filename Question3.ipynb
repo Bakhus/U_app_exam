{
 "cells": [
  {
   "cell_type": "markdown",
   "metadata": {},
   "source": [
    "# Part 3 Data analysis"
   ]
  },
  {
   "cell_type": "code",
   "execution_count": 1,
   "metadata": {
    "collapsed": true
   },
   "outputs": [],
   "source": [
    "import pandas as pd"
   ]
  },
  {
   "cell_type": "code",
   "execution_count": 9,
   "metadata": {
    "collapsed": true
   },
   "outputs": [],
   "source": [
    "data=pd.read_csv('/Users/dkh320/Desktop/Family/Bakhtiyar/Applications/U_app_exam/ds_challenge_v2_1_data.csv')"
   ]
  },
  {
   "cell_type": "code",
   "execution_count": 13,
   "metadata": {
    "collapsed": false,
    "scrolled": true
   },
   "outputs": [
    {
     "data": {
      "text/html": [
       "<div>\n",
       "<table border=\"1\" class=\"dataframe\">\n",
       "  <thead>\n",
       "    <tr style=\"text-align: right;\">\n",
       "      <th></th>\n",
       "      <th>id</th>\n",
       "      <th>city_name</th>\n",
       "      <th>signup_os</th>\n",
       "      <th>signup_channel</th>\n",
       "      <th>signup_date</th>\n",
       "      <th>bgc_date</th>\n",
       "      <th>vehicle_added_date</th>\n",
       "      <th>vehicle_make</th>\n",
       "      <th>vehicle_model</th>\n",
       "      <th>vehicle_year</th>\n",
       "      <th>first_completed_date</th>\n",
       "    </tr>\n",
       "  </thead>\n",
       "  <tbody>\n",
       "    <tr>\n",
       "      <th>0</th>\n",
       "      <td>1</td>\n",
       "      <td>Strark</td>\n",
       "      <td>ios web</td>\n",
       "      <td>Paid</td>\n",
       "      <td>1/2/16</td>\n",
       "      <td>NaN</td>\n",
       "      <td>NaN</td>\n",
       "      <td>NaN</td>\n",
       "      <td>NaN</td>\n",
       "      <td>NaN</td>\n",
       "      <td>NaN</td>\n",
       "    </tr>\n",
       "    <tr>\n",
       "      <th>1</th>\n",
       "      <td>2</td>\n",
       "      <td>Strark</td>\n",
       "      <td>windows</td>\n",
       "      <td>Paid</td>\n",
       "      <td>1/21/16</td>\n",
       "      <td>NaN</td>\n",
       "      <td>NaN</td>\n",
       "      <td>NaN</td>\n",
       "      <td>NaN</td>\n",
       "      <td>NaN</td>\n",
       "      <td>NaN</td>\n",
       "    </tr>\n",
       "    <tr>\n",
       "      <th>2</th>\n",
       "      <td>3</td>\n",
       "      <td>Wrouver</td>\n",
       "      <td>windows</td>\n",
       "      <td>Organic</td>\n",
       "      <td>1/11/16</td>\n",
       "      <td>1/11/16</td>\n",
       "      <td>NaN</td>\n",
       "      <td>NaN</td>\n",
       "      <td>NaN</td>\n",
       "      <td>NaN</td>\n",
       "      <td>NaN</td>\n",
       "    </tr>\n",
       "    <tr>\n",
       "      <th>3</th>\n",
       "      <td>4</td>\n",
       "      <td>Berton</td>\n",
       "      <td>android web</td>\n",
       "      <td>Referral</td>\n",
       "      <td>1/29/16</td>\n",
       "      <td>2/3/16</td>\n",
       "      <td>2/3/16</td>\n",
       "      <td>Toyota</td>\n",
       "      <td>Corolla</td>\n",
       "      <td>2016.0</td>\n",
       "      <td>2/3/16</td>\n",
       "    </tr>\n",
       "    <tr>\n",
       "      <th>4</th>\n",
       "      <td>5</td>\n",
       "      <td>Strark</td>\n",
       "      <td>android web</td>\n",
       "      <td>Referral</td>\n",
       "      <td>1/10/16</td>\n",
       "      <td>1/25/16</td>\n",
       "      <td>1/26/16</td>\n",
       "      <td>Hyundai</td>\n",
       "      <td>Sonata</td>\n",
       "      <td>2016.0</td>\n",
       "      <td>NaN</td>\n",
       "    </tr>\n",
       "    <tr>\n",
       "      <th>5</th>\n",
       "      <td>6</td>\n",
       "      <td>Strark</td>\n",
       "      <td>android web</td>\n",
       "      <td>Referral</td>\n",
       "      <td>1/18/16</td>\n",
       "      <td>1/18/16</td>\n",
       "      <td>1/22/16</td>\n",
       "      <td>Cadillac</td>\n",
       "      <td>DTS</td>\n",
       "      <td>2006.0</td>\n",
       "      <td>NaN</td>\n",
       "    </tr>\n",
       "    <tr>\n",
       "      <th>6</th>\n",
       "      <td>7</td>\n",
       "      <td>Strark</td>\n",
       "      <td>ios web</td>\n",
       "      <td>Paid</td>\n",
       "      <td>1/14/16</td>\n",
       "      <td>1/16/16</td>\n",
       "      <td>1/21/16</td>\n",
       "      <td>Toyota</td>\n",
       "      <td>Prius V</td>\n",
       "      <td>2014.0</td>\n",
       "      <td>1/23/16</td>\n",
       "    </tr>\n",
       "    <tr>\n",
       "      <th>7</th>\n",
       "      <td>8</td>\n",
       "      <td>Strark</td>\n",
       "      <td>ios web</td>\n",
       "      <td>Referral</td>\n",
       "      <td>1/26/16</td>\n",
       "      <td>2/5/16</td>\n",
       "      <td>NaN</td>\n",
       "      <td>NaN</td>\n",
       "      <td>NaN</td>\n",
       "      <td>NaN</td>\n",
       "      <td>NaN</td>\n",
       "    </tr>\n",
       "    <tr>\n",
       "      <th>8</th>\n",
       "      <td>9</td>\n",
       "      <td>Strark</td>\n",
       "      <td>NaN</td>\n",
       "      <td>Referral</td>\n",
       "      <td>1/5/16</td>\n",
       "      <td>NaN</td>\n",
       "      <td>NaN</td>\n",
       "      <td>NaN</td>\n",
       "      <td>NaN</td>\n",
       "      <td>NaN</td>\n",
       "      <td>NaN</td>\n",
       "    </tr>\n",
       "    <tr>\n",
       "      <th>9</th>\n",
       "      <td>10</td>\n",
       "      <td>Berton</td>\n",
       "      <td>ios web</td>\n",
       "      <td>Paid</td>\n",
       "      <td>1/25/16</td>\n",
       "      <td>NaN</td>\n",
       "      <td>NaN</td>\n",
       "      <td>NaN</td>\n",
       "      <td>NaN</td>\n",
       "      <td>NaN</td>\n",
       "      <td>NaN</td>\n",
       "    </tr>\n",
       "    <tr>\n",
       "      <th>10</th>\n",
       "      <td>11</td>\n",
       "      <td>Strark</td>\n",
       "      <td>ios web</td>\n",
       "      <td>Referral</td>\n",
       "      <td>1/18/16</td>\n",
       "      <td>2/9/16</td>\n",
       "      <td>2/24/16</td>\n",
       "      <td>Kia</td>\n",
       "      <td>Optima</td>\n",
       "      <td>2015.0</td>\n",
       "      <td>NaN</td>\n",
       "    </tr>\n",
       "  </tbody>\n",
       "</table>\n",
       "</div>"
      ],
      "text/plain": [
       "    id city_name    signup_os signup_channel signup_date bgc_date  \\\n",
       "0    1    Strark      ios web           Paid      1/2/16      NaN   \n",
       "1    2    Strark      windows           Paid     1/21/16      NaN   \n",
       "2    3   Wrouver      windows        Organic     1/11/16  1/11/16   \n",
       "3    4    Berton  android web       Referral     1/29/16   2/3/16   \n",
       "4    5    Strark  android web       Referral     1/10/16  1/25/16   \n",
       "5    6    Strark  android web       Referral     1/18/16  1/18/16   \n",
       "6    7    Strark      ios web           Paid     1/14/16  1/16/16   \n",
       "7    8    Strark      ios web       Referral     1/26/16   2/5/16   \n",
       "8    9    Strark          NaN       Referral      1/5/16      NaN   \n",
       "9   10    Berton      ios web           Paid     1/25/16      NaN   \n",
       "10  11    Strark      ios web       Referral     1/18/16   2/9/16   \n",
       "\n",
       "   vehicle_added_date vehicle_make vehicle_model  vehicle_year  \\\n",
       "0                 NaN          NaN           NaN           NaN   \n",
       "1                 NaN          NaN           NaN           NaN   \n",
       "2                 NaN          NaN           NaN           NaN   \n",
       "3              2/3/16       Toyota       Corolla        2016.0   \n",
       "4             1/26/16      Hyundai        Sonata        2016.0   \n",
       "5             1/22/16     Cadillac           DTS        2006.0   \n",
       "6             1/21/16       Toyota       Prius V        2014.0   \n",
       "7                 NaN          NaN           NaN           NaN   \n",
       "8                 NaN          NaN           NaN           NaN   \n",
       "9                 NaN          NaN           NaN           NaN   \n",
       "10            2/24/16          Kia        Optima        2015.0   \n",
       "\n",
       "   first_completed_date  \n",
       "0                   NaN  \n",
       "1                   NaN  \n",
       "2                   NaN  \n",
       "3                2/3/16  \n",
       "4                   NaN  \n",
       "5                   NaN  \n",
       "6               1/23/16  \n",
       "7                   NaN  \n",
       "8                   NaN  \n",
       "9                   NaN  \n",
       "10                  NaN  "
      ]
     },
     "execution_count": 13,
     "metadata": {},
     "output_type": "execute_result"
    }
   ],
   "source": [
    "data.loc[:10,]"
   ]
  },
  {
   "cell_type": "code",
   "execution_count": 14,
   "metadata": {
    "collapsed": false
   },
   "outputs": [
    {
     "data": {
      "text/plain": [
       "(54681, 11)"
      ]
     },
     "execution_count": 14,
     "metadata": {},
     "output_type": "execute_result"
    }
   ],
   "source": [
    "data.shape"
   ]
  },
  {
   "cell_type": "code",
   "execution_count": 15,
   "metadata": {
    "collapsed": false
   },
   "outputs": [
    {
     "data": {
      "text/plain": [
       "Index([u'id', u'city_name', u'signup_os', u'signup_channel', u'signup_date',\n",
       "       u'bgc_date', u'vehicle_added_date', u'vehicle_make', u'vehicle_model',\n",
       "       u'vehicle_year', u'first_completed_date'],\n",
       "      dtype='object')"
      ]
     },
     "execution_count": 15,
     "metadata": {},
     "output_type": "execute_result"
    }
   ],
   "source": [
    "data.columns"
   ]
  },
  {
   "cell_type": "markdown",
   "metadata": {},
   "source": [
    "## Question 1"
   ]
  },
  {
   "cell_type": "markdown",
   "metadata": {},
   "source": [
    "Creating separate data set with drivers that completed their first trip.\n",
    "Assuming drivers that did not complete their first trips have NaN value for their 'first_completed_date' column."
   ]
  },
  {
   "cell_type": "code",
   "execution_count": 98,
   "metadata": {
    "collapsed": true
   },
   "outputs": [],
   "source": [
    "driver_complete_ft = data.loc[pd.notnull(data['first_completed_date']),]"
   ]
  },
  {
   "cell_type": "code",
   "execution_count": 99,
   "metadata": {
    "collapsed": false
   },
   "outputs": [
    {
     "name": "stdout",
     "output_type": "stream",
     "text": [
      "6137\n",
      "6137\n"
     ]
    }
   ],
   "source": [
    "print driver_complete_ft['id'].size\n",
    "print len(driver_complete_ft['id'])"
   ]
  },
  {
   "cell_type": "markdown",
   "metadata": {},
   "source": [
    "The question was 'What fraction of the driver\n",
    "signups took a first trip?'\n",
    "\n",
    "The answer is the ratio of number of unique drivers in the 'driver_complete_ft' table to the number of unique drivers in the original 'data' table."
   ]
  },
  {
   "cell_type": "code",
   "execution_count": 100,
   "metadata": {
    "collapsed": false
   },
   "outputs": [
    {
     "name": "stdout",
     "output_type": "stream",
     "text": [
      "Answer =  0.11\n"
     ]
    }
   ],
   "source": [
    "print 'Answer = ', round(len(driver_complete_ft['id'])/float(len(data['id'])),2) "
   ]
  },
  {
   "cell_type": "markdown",
   "metadata": {},
   "source": [
    "Only 11% of the drivers that signed up, completed their first trips in January 2015."
   ]
  },
  {
   "cell_type": "code",
   "execution_count": 101,
   "metadata": {
    "collapsed": false
   },
   "outputs": [
    {
     "data": {
      "text/plain": [
       "id                        int64\n",
       "city_name                object\n",
       "signup_os                object\n",
       "signup_channel           object\n",
       "signup_date              object\n",
       "bgc_date                 object\n",
       "vehicle_added_date       object\n",
       "vehicle_make             object\n",
       "vehicle_model            object\n",
       "vehicle_year            float64\n",
       "first_completed_date     object\n",
       "dtype: object"
      ]
     },
     "execution_count": 101,
     "metadata": {},
     "output_type": "execute_result"
    }
   ],
   "source": [
    "data.dtypes"
   ]
  },
  {
   "cell_type": "code",
   "execution_count": 102,
   "metadata": {
    "collapsed": false
   },
   "outputs": [
    {
     "data": {
      "text/plain": [
       "3     1/29/16\n",
       "6     1/14/16\n",
       "12    1/12/16\n",
       "15    1/15/16\n",
       "43    1/29/16\n",
       "Name: signup_date, dtype: object"
      ]
     },
     "execution_count": 102,
     "metadata": {},
     "output_type": "execute_result"
    }
   ],
   "source": [
    "driver_complete_ft['signup_date'].head()"
   ]
  },
  {
   "cell_type": "code",
   "execution_count": 104,
   "metadata": {
    "collapsed": false
   },
   "outputs": [
    {
     "name": "stderr",
     "output_type": "stream",
     "text": [
      "/Users/dkh320/anaconda2/lib/python2.7/site-packages/ipykernel/__main__.py:1: SettingWithCopyWarning: \n",
      "A value is trying to be set on a copy of a slice from a DataFrame.\n",
      "Try using .loc[row_indexer,col_indexer] = value instead\n",
      "\n",
      "See the caveats in the documentation: http://pandas.pydata.org/pandas-docs/stable/indexing.html#indexing-view-versus-copy\n",
      "  if __name__ == '__main__':\n"
     ]
    }
   ],
   "source": [
    "driver_complete_ft['signup_to_bgc'] = \\\n",
    "            (pd.to_datetime(driver_complete_ft['signup_date'],format=\"%m/%d/%y\") - \\\n",
    "             pd.to_datetime(driver_complete_ft['bgc_date'],format=\"%m/%d/%y\"))\n"
   ]
  },
  {
   "cell_type": "code",
   "execution_count": 105,
   "metadata": {
    "collapsed": false
   },
   "outputs": [
    {
     "data": {
      "text/plain": [
       "id                                int64\n",
       "city_name                        object\n",
       "signup_os                        object\n",
       "signup_channel                   object\n",
       "signup_date                      object\n",
       "bgc_date                         object\n",
       "vehicle_added_date               object\n",
       "vehicle_make                     object\n",
       "vehicle_model                    object\n",
       "vehicle_year                    float64\n",
       "first_completed_date             object\n",
       "signup_to_bgc           timedelta64[ns]\n",
       "dtype: object"
      ]
     },
     "execution_count": 105,
     "metadata": {},
     "output_type": "execute_result"
    }
   ],
   "source": [
    "driver_complete_ft.dtypes"
   ]
  },
  {
   "cell_type": "code",
   "execution_count": 109,
   "metadata": {
    "collapsed": false
   },
   "outputs": [
    {
     "data": {
      "text/plain": [
       "3        -5 days\n",
       "6        -2 days\n",
       "12        0 days\n",
       "15       -2 days\n",
       "43       -1 days\n",
       "45       -2 days\n",
       "56       -2 days\n",
       "81        0 days\n",
       "84       -7 days\n",
       "91        0 days\n",
       "93       -3 days\n",
       "96      -10 days\n",
       "104     -18 days\n",
       "109       0 days\n",
       "113       0 days\n",
       "118      -4 days\n",
       "122      -2 days\n",
       "124     -19 days\n",
       "127      -2 days\n",
       "128      -2 days\n",
       "137      -3 days\n",
       "146      -6 days\n",
       "155       0 days\n",
       "161       0 days\n",
       "165       0 days\n",
       "167       0 days\n",
       "170      -1 days\n",
       "174       0 days\n",
       "175       0 days\n",
       "176      -5 days\n",
       "          ...   \n",
       "54109    -2 days\n",
       "54116    -1 days\n",
       "54123   -10 days\n",
       "54124   -13 days\n",
       "54130     0 days\n",
       "54139     0 days\n",
       "54140    -2 days\n",
       "54157    -1 days\n",
       "54175     0 days\n",
       "54176    -1 days\n",
       "54178    -4 days\n",
       "54184    -6 days\n",
       "54187    -1 days\n",
       "54195    -3 days\n",
       "54201     0 days\n",
       "54206    -8 days\n",
       "54210    -1 days\n",
       "54233    -6 days\n",
       "54247    -8 days\n",
       "54254    -7 days\n",
       "54258    -2 days\n",
       "54269    -1 days\n",
       "54272     0 days\n",
       "54273    -3 days\n",
       "54277    -6 days\n",
       "54289     0 days\n",
       "54290    -2 days\n",
       "54303     0 days\n",
       "54384     0 days\n",
       "54665    -7 days\n",
       "Name: signup_to_bgc, dtype: timedelta64[ns]"
      ]
     },
     "execution_count": 109,
     "metadata": {},
     "output_type": "execute_result"
    }
   ],
   "source": [
    "driver_complete_ft.loc[:,'signup_to_bgc']."
   ]
  },
  {
   "cell_type": "code",
   "execution_count": 89,
   "metadata": {
    "collapsed": false
   },
   "outputs": [
    {
     "data": {
      "text/plain": [
       "6137"
      ]
     },
     "execution_count": 89,
     "metadata": {},
     "output_type": "execute_result"
    }
   ],
   "source": [
    "len(driver_complete_ft.first_completed_datetime)"
   ]
  },
  {
   "cell_type": "code",
   "execution_count": 84,
   "metadata": {
    "collapsed": false
   },
   "outputs": [
    {
     "name": "stdout",
     "output_type": "stream",
     "text": [
      "2016-01-23 00:00:00 2016-02-03 00:00:00 -11\n"
     ]
    }
   ],
   "source": [
    "print dt.iloc[1], dt.iloc[0], (dt.iloc[1]-dt.iloc[0]).days"
   ]
  },
  {
   "cell_type": "code",
   "execution_count": 85,
   "metadata": {
    "collapsed": false
   },
   "outputs": [
    {
     "data": {
      "text/html": [
       "<div>\n",
       "<table border=\"1\" class=\"dataframe\">\n",
       "  <thead>\n",
       "    <tr style=\"text-align: right;\">\n",
       "      <th></th>\n",
       "      <th>vehicle_added_date</th>\n",
       "      <th>first_completed_date</th>\n",
       "    </tr>\n",
       "  </thead>\n",
       "  <tbody>\n",
       "    <tr>\n",
       "      <th>104</th>\n",
       "      <td>NaN</td>\n",
       "      <td>2/3/16</td>\n",
       "    </tr>\n",
       "    <tr>\n",
       "      <th>128</th>\n",
       "      <td>NaN</td>\n",
       "      <td>2/16/16</td>\n",
       "    </tr>\n",
       "    <tr>\n",
       "      <th>181</th>\n",
       "      <td>NaN</td>\n",
       "      <td>1/25/16</td>\n",
       "    </tr>\n",
       "    <tr>\n",
       "      <th>913</th>\n",
       "      <td>NaN</td>\n",
       "      <td>2/24/16</td>\n",
       "    </tr>\n",
       "    <tr>\n",
       "      <th>1242</th>\n",
       "      <td>NaN</td>\n",
       "      <td>1/26/16</td>\n",
       "    </tr>\n",
       "    <tr>\n",
       "      <th>1285</th>\n",
       "      <td>NaN</td>\n",
       "      <td>1/7/16</td>\n",
       "    </tr>\n",
       "    <tr>\n",
       "      <th>1571</th>\n",
       "      <td>NaN</td>\n",
       "      <td>2/6/16</td>\n",
       "    </tr>\n",
       "    <tr>\n",
       "      <th>2069</th>\n",
       "      <td>NaN</td>\n",
       "      <td>1/27/16</td>\n",
       "    </tr>\n",
       "    <tr>\n",
       "      <th>2075</th>\n",
       "      <td>NaN</td>\n",
       "      <td>2/24/16</td>\n",
       "    </tr>\n",
       "    <tr>\n",
       "      <th>2091</th>\n",
       "      <td>NaN</td>\n",
       "      <td>1/30/16</td>\n",
       "    </tr>\n",
       "    <tr>\n",
       "      <th>2093</th>\n",
       "      <td>NaN</td>\n",
       "      <td>1/16/16</td>\n",
       "    </tr>\n",
       "    <tr>\n",
       "      <th>2352</th>\n",
       "      <td>NaN</td>\n",
       "      <td>2/14/16</td>\n",
       "    </tr>\n",
       "    <tr>\n",
       "      <th>2523</th>\n",
       "      <td>NaN</td>\n",
       "      <td>2/15/16</td>\n",
       "    </tr>\n",
       "    <tr>\n",
       "      <th>2552</th>\n",
       "      <td>NaN</td>\n",
       "      <td>1/27/16</td>\n",
       "    </tr>\n",
       "    <tr>\n",
       "      <th>2951</th>\n",
       "      <td>NaN</td>\n",
       "      <td>2/17/16</td>\n",
       "    </tr>\n",
       "    <tr>\n",
       "      <th>3254</th>\n",
       "      <td>NaN</td>\n",
       "      <td>2/15/16</td>\n",
       "    </tr>\n",
       "    <tr>\n",
       "      <th>3613</th>\n",
       "      <td>NaN</td>\n",
       "      <td>1/30/16</td>\n",
       "    </tr>\n",
       "    <tr>\n",
       "      <th>3702</th>\n",
       "      <td>NaN</td>\n",
       "      <td>2/10/16</td>\n",
       "    </tr>\n",
       "    <tr>\n",
       "      <th>4075</th>\n",
       "      <td>NaN</td>\n",
       "      <td>2/12/16</td>\n",
       "    </tr>\n",
       "    <tr>\n",
       "      <th>4109</th>\n",
       "      <td>NaN</td>\n",
       "      <td>1/16/16</td>\n",
       "    </tr>\n",
       "    <tr>\n",
       "      <th>4211</th>\n",
       "      <td>NaN</td>\n",
       "      <td>1/21/16</td>\n",
       "    </tr>\n",
       "    <tr>\n",
       "      <th>4487</th>\n",
       "      <td>NaN</td>\n",
       "      <td>1/28/16</td>\n",
       "    </tr>\n",
       "    <tr>\n",
       "      <th>4580</th>\n",
       "      <td>NaN</td>\n",
       "      <td>1/22/16</td>\n",
       "    </tr>\n",
       "    <tr>\n",
       "      <th>4700</th>\n",
       "      <td>NaN</td>\n",
       "      <td>1/15/16</td>\n",
       "    </tr>\n",
       "    <tr>\n",
       "      <th>4756</th>\n",
       "      <td>NaN</td>\n",
       "      <td>2/15/16</td>\n",
       "    </tr>\n",
       "    <tr>\n",
       "      <th>4876</th>\n",
       "      <td>NaN</td>\n",
       "      <td>1/31/16</td>\n",
       "    </tr>\n",
       "    <tr>\n",
       "      <th>4949</th>\n",
       "      <td>NaN</td>\n",
       "      <td>1/16/16</td>\n",
       "    </tr>\n",
       "    <tr>\n",
       "      <th>5022</th>\n",
       "      <td>NaN</td>\n",
       "      <td>1/28/16</td>\n",
       "    </tr>\n",
       "    <tr>\n",
       "      <th>5060</th>\n",
       "      <td>NaN</td>\n",
       "      <td>2/1/16</td>\n",
       "    </tr>\n",
       "    <tr>\n",
       "      <th>5114</th>\n",
       "      <td>NaN</td>\n",
       "      <td>2/16/16</td>\n",
       "    </tr>\n",
       "    <tr>\n",
       "      <th>...</th>\n",
       "      <td>...</td>\n",
       "      <td>...</td>\n",
       "    </tr>\n",
       "    <tr>\n",
       "      <th>48180</th>\n",
       "      <td>NaN</td>\n",
       "      <td>1/23/16</td>\n",
       "    </tr>\n",
       "    <tr>\n",
       "      <th>48198</th>\n",
       "      <td>NaN</td>\n",
       "      <td>2/11/16</td>\n",
       "    </tr>\n",
       "    <tr>\n",
       "      <th>48281</th>\n",
       "      <td>NaN</td>\n",
       "      <td>1/8/16</td>\n",
       "    </tr>\n",
       "    <tr>\n",
       "      <th>48635</th>\n",
       "      <td>NaN</td>\n",
       "      <td>2/5/16</td>\n",
       "    </tr>\n",
       "    <tr>\n",
       "      <th>48811</th>\n",
       "      <td>NaN</td>\n",
       "      <td>1/31/16</td>\n",
       "    </tr>\n",
       "    <tr>\n",
       "      <th>49120</th>\n",
       "      <td>NaN</td>\n",
       "      <td>2/6/16</td>\n",
       "    </tr>\n",
       "    <tr>\n",
       "      <th>49404</th>\n",
       "      <td>NaN</td>\n",
       "      <td>1/26/16</td>\n",
       "    </tr>\n",
       "    <tr>\n",
       "      <th>49434</th>\n",
       "      <td>NaN</td>\n",
       "      <td>2/1/16</td>\n",
       "    </tr>\n",
       "    <tr>\n",
       "      <th>49454</th>\n",
       "      <td>NaN</td>\n",
       "      <td>1/16/16</td>\n",
       "    </tr>\n",
       "    <tr>\n",
       "      <th>50606</th>\n",
       "      <td>NaN</td>\n",
       "      <td>1/13/16</td>\n",
       "    </tr>\n",
       "    <tr>\n",
       "      <th>50657</th>\n",
       "      <td>NaN</td>\n",
       "      <td>2/3/16</td>\n",
       "    </tr>\n",
       "    <tr>\n",
       "      <th>50773</th>\n",
       "      <td>NaN</td>\n",
       "      <td>1/26/16</td>\n",
       "    </tr>\n",
       "    <tr>\n",
       "      <th>50859</th>\n",
       "      <td>NaN</td>\n",
       "      <td>1/15/16</td>\n",
       "    </tr>\n",
       "    <tr>\n",
       "      <th>51095</th>\n",
       "      <td>NaN</td>\n",
       "      <td>1/28/16</td>\n",
       "    </tr>\n",
       "    <tr>\n",
       "      <th>51185</th>\n",
       "      <td>NaN</td>\n",
       "      <td>1/17/16</td>\n",
       "    </tr>\n",
       "    <tr>\n",
       "      <th>52323</th>\n",
       "      <td>NaN</td>\n",
       "      <td>1/23/16</td>\n",
       "    </tr>\n",
       "    <tr>\n",
       "      <th>52480</th>\n",
       "      <td>NaN</td>\n",
       "      <td>2/15/16</td>\n",
       "    </tr>\n",
       "    <tr>\n",
       "      <th>52547</th>\n",
       "      <td>NaN</td>\n",
       "      <td>1/25/16</td>\n",
       "    </tr>\n",
       "    <tr>\n",
       "      <th>52626</th>\n",
       "      <td>NaN</td>\n",
       "      <td>1/27/16</td>\n",
       "    </tr>\n",
       "    <tr>\n",
       "      <th>52749</th>\n",
       "      <td>NaN</td>\n",
       "      <td>2/10/16</td>\n",
       "    </tr>\n",
       "    <tr>\n",
       "      <th>52762</th>\n",
       "      <td>NaN</td>\n",
       "      <td>1/28/16</td>\n",
       "    </tr>\n",
       "    <tr>\n",
       "      <th>52769</th>\n",
       "      <td>NaN</td>\n",
       "      <td>1/21/16</td>\n",
       "    </tr>\n",
       "    <tr>\n",
       "      <th>52856</th>\n",
       "      <td>NaN</td>\n",
       "      <td>2/5/16</td>\n",
       "    </tr>\n",
       "    <tr>\n",
       "      <th>52885</th>\n",
       "      <td>NaN</td>\n",
       "      <td>2/5/16</td>\n",
       "    </tr>\n",
       "    <tr>\n",
       "      <th>53029</th>\n",
       "      <td>NaN</td>\n",
       "      <td>1/31/16</td>\n",
       "    </tr>\n",
       "    <tr>\n",
       "      <th>53757</th>\n",
       "      <td>NaN</td>\n",
       "      <td>2/1/16</td>\n",
       "    </tr>\n",
       "    <tr>\n",
       "      <th>53786</th>\n",
       "      <td>NaN</td>\n",
       "      <td>2/4/16</td>\n",
       "    </tr>\n",
       "    <tr>\n",
       "      <th>54130</th>\n",
       "      <td>NaN</td>\n",
       "      <td>1/31/16</td>\n",
       "    </tr>\n",
       "    <tr>\n",
       "      <th>54384</th>\n",
       "      <td>NaN</td>\n",
       "      <td>2/9/16</td>\n",
       "    </tr>\n",
       "    <tr>\n",
       "      <th>54665</th>\n",
       "      <td>NaN</td>\n",
       "      <td>2/5/16</td>\n",
       "    </tr>\n",
       "  </tbody>\n",
       "</table>\n",
       "<p>265 rows × 2 columns</p>\n",
       "</div>"
      ],
      "text/plain": [
       "      vehicle_added_date first_completed_date\n",
       "104                  NaN               2/3/16\n",
       "128                  NaN              2/16/16\n",
       "181                  NaN              1/25/16\n",
       "913                  NaN              2/24/16\n",
       "1242                 NaN              1/26/16\n",
       "1285                 NaN               1/7/16\n",
       "1571                 NaN               2/6/16\n",
       "2069                 NaN              1/27/16\n",
       "2075                 NaN              2/24/16\n",
       "2091                 NaN              1/30/16\n",
       "2093                 NaN              1/16/16\n",
       "2352                 NaN              2/14/16\n",
       "2523                 NaN              2/15/16\n",
       "2552                 NaN              1/27/16\n",
       "2951                 NaN              2/17/16\n",
       "3254                 NaN              2/15/16\n",
       "3613                 NaN              1/30/16\n",
       "3702                 NaN              2/10/16\n",
       "4075                 NaN              2/12/16\n",
       "4109                 NaN              1/16/16\n",
       "4211                 NaN              1/21/16\n",
       "4487                 NaN              1/28/16\n",
       "4580                 NaN              1/22/16\n",
       "4700                 NaN              1/15/16\n",
       "4756                 NaN              2/15/16\n",
       "4876                 NaN              1/31/16\n",
       "4949                 NaN              1/16/16\n",
       "5022                 NaN              1/28/16\n",
       "5060                 NaN               2/1/16\n",
       "5114                 NaN              2/16/16\n",
       "...                  ...                  ...\n",
       "48180                NaN              1/23/16\n",
       "48198                NaN              2/11/16\n",
       "48281                NaN               1/8/16\n",
       "48635                NaN               2/5/16\n",
       "48811                NaN              1/31/16\n",
       "49120                NaN               2/6/16\n",
       "49404                NaN              1/26/16\n",
       "49434                NaN               2/1/16\n",
       "49454                NaN              1/16/16\n",
       "50606                NaN              1/13/16\n",
       "50657                NaN               2/3/16\n",
       "50773                NaN              1/26/16\n",
       "50859                NaN              1/15/16\n",
       "51095                NaN              1/28/16\n",
       "51185                NaN              1/17/16\n",
       "52323                NaN              1/23/16\n",
       "52480                NaN              2/15/16\n",
       "52547                NaN              1/25/16\n",
       "52626                NaN              1/27/16\n",
       "52749                NaN              2/10/16\n",
       "52762                NaN              1/28/16\n",
       "52769                NaN              1/21/16\n",
       "52856                NaN               2/5/16\n",
       "52885                NaN               2/5/16\n",
       "53029                NaN              1/31/16\n",
       "53757                NaN               2/1/16\n",
       "53786                NaN               2/4/16\n",
       "54130                NaN              1/31/16\n",
       "54384                NaN               2/9/16\n",
       "54665                NaN               2/5/16\n",
       "\n",
       "[265 rows x 2 columns]"
      ]
     },
     "execution_count": 85,
     "metadata": {},
     "output_type": "execute_result"
    }
   ],
   "source": [
    "driver_complete_ft.loc[pd.isnull(driver_complete_ft['vehicle_added_date']),['vehicle_added_date','first_completed_date']]"
   ]
  },
  {
   "cell_type": "code",
   "execution_count": 57,
   "metadata": {
    "collapsed": false
   },
   "outputs": [
    {
     "data": {
      "text/plain": [
       "3       2016-01-16\n",
       "6       2016-02-05\n",
       "12      2016-02-03\n",
       "15      2016-01-17\n",
       "43      2016-01-22\n",
       "45      2016-02-01\n",
       "56      2016-02-15\n",
       "81      2016-01-31\n",
       "84      2016-01-29\n",
       "91      2016-02-05\n",
       "93      2016-02-01\n",
       "96      2016-02-05\n",
       "104     2016-02-22\n",
       "109     2016-02-04\n",
       "113     2016-02-09\n",
       "118     2016-01-29\n",
       "122     2016-01-28\n",
       "124     2016-01-19\n",
       "127     2016-01-27\n",
       "128     2016-02-15\n",
       "137     2016-01-28\n",
       "146     2016-02-02\n",
       "155     2016-01-22\n",
       "161     2016-01-19\n",
       "165     2016-01-21\n",
       "167     2016-01-09\n",
       "170     2016-02-06\n",
       "174     2016-01-08\n",
       "175     2016-01-28\n",
       "176     2016-01-24\n",
       "           ...    \n",
       "54109          NaT\n",
       "54116          NaT\n",
       "54123          NaT\n",
       "54124          NaT\n",
       "54130          NaT\n",
       "54139          NaT\n",
       "54140          NaT\n",
       "54157          NaT\n",
       "54175          NaT\n",
       "54176          NaT\n",
       "54178          NaT\n",
       "54184          NaT\n",
       "54187          NaT\n",
       "54195          NaT\n",
       "54201          NaT\n",
       "54206          NaT\n",
       "54210          NaT\n",
       "54233          NaT\n",
       "54247          NaT\n",
       "54254          NaT\n",
       "54258          NaT\n",
       "54269          NaT\n",
       "54272          NaT\n",
       "54273          NaT\n",
       "54277          NaT\n",
       "54289          NaT\n",
       "54290          NaT\n",
       "54303          NaT\n",
       "54384          NaT\n",
       "54665          NaT\n",
       "Name: first_completed_date, dtype: datetime64[ns]"
      ]
     },
     "execution_count": 57,
     "metadata": {},
     "output_type": "execute_result"
    }
   ],
   "source": [
    "driver_complete_ft.first_completed_date"
   ]
  },
  {
   "cell_type": "code",
   "execution_count": null,
   "metadata": {
    "collapsed": true
   },
   "outputs": [],
   "source": []
  }
 ],
 "metadata": {
  "kernelspec": {
   "display_name": "Python 2",
   "language": "python",
   "name": "python2"
  },
  "language_info": {
   "codemirror_mode": {
    "name": "ipython",
    "version": 2
   },
   "file_extension": ".py",
   "mimetype": "text/x-python",
   "name": "python",
   "nbconvert_exporter": "python",
   "pygments_lexer": "ipython2",
   "version": "2.7.11"
  }
 },
 "nbformat": 4,
 "nbformat_minor": 0
}
